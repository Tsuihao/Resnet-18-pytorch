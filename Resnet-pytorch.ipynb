{
 "cells": [
  {
   "cell_type": "code",
   "execution_count": 1,
   "metadata": {},
   "outputs": [],
   "source": [
    "import torch\n",
    "import torch.nn as nn\n",
    "import torch.optim as optim\n",
    "import torchvision\n",
    "from torchvision import datasets, models, transforms"
   ]
  },
  {
   "cell_type": "code",
   "execution_count": 2,
   "metadata": {},
   "outputs": [
    {
     "name": "stdout",
     "output_type": "stream",
     "text": [
      "cuda\n"
     ]
    }
   ],
   "source": [
    "# check cuda devive\n",
    "device = torch.device('cuda' if torch.cuda.is_available() else 'cpu')\n",
    "print(device)"
   ]
  },
  {
   "cell_type": "markdown",
   "metadata": {},
   "source": [
    "## Residual block implementation\n",
    "As can be seen in the following diagram, there are two type of residual block \n",
    "1. w/o 1x1 conv\n",
    "2. with 1x1 conv"
   ]
  },
  {
   "cell_type": "markdown",
   "metadata": {},
   "source": [
    "![Alt text](images/residual_block.png)\n"
   ]
  },
  {
   "cell_type": "code",
   "execution_count": 3,
   "metadata": {},
   "outputs": [],
   "source": [
    "# construct the residual block\n",
    "# Residual block has multiple layers (Conv-BN-relu, shortcut connection)\n",
    "# The key concept is the identity_downsample! Whenever connect to a new stage the identity needs to be downsampled\n",
    "class residual_block(nn.Module):\n",
    "    def __init__(self, in_channels, out_channels, identity_downsample=None, stride=1):\n",
    "        super(residual_block, self).__init__()\n",
    "        self.expansion = 4 # in teh 50/101/152, after the residual block the channel increase 4 times\n",
    "        \n",
    "        # the first 1x1 conv\n",
    "        self.conv1 = nn.Conv2d(in_channels, out_channels, kernel_size=1, stride=1, padding=0)\n",
    "        self.bn1   = nn.BatchNorm2d(out_channels) # batch_norm in the resnet paper is after the conv_layer, before the activation\n",
    "        \n",
    "        # the second conv kernel_size: 3x3, and with stide 2 -> you can observe the output side reduce is from the second conv\n",
    "        self.conv2 = nn.Conv2d(out_channels, out_channels, kernel_size=3, stride=stride, padding=1)  # padding controls the amount of implicit zero-paddings on both sides for padding number of points for each dimension.\n",
    "        self.bn2   = nn.BatchNorm2d(out_channels)\n",
    "        \n",
    "        # the third 1x1 conv, after the final layer, the channel size will increase 4 times\n",
    "        self.conv3 = nn.Conv2d(out_channels, out_channels*self.expansion, kernel_size=1, stride=1, padding=0)\n",
    "        self.bn3   = nn.BatchNorm2d(out_channels*self.expansion)\n",
    "        \n",
    "        self.relu = nn.ReLU()\n",
    "        self.identity_downsample = identity_downsample \n",
    "        \n",
    "    def forward(self, x):\n",
    "        identity = x.clone()\n",
    "        \n",
    "        # Stacking: Conv-BN-ReLU\n",
    "        x = self.conv1(x)\n",
    "        x = self.bn1(x)\n",
    "        x = self.relu(x)\n",
    "        x = self.conv2(x)\n",
    "        x = self.bn2(x)\n",
    "        x = self.relu(x)\n",
    "        x = self.conv3(x)\n",
    "        x = self.bn3(x)\n",
    "        # no relu here\n",
    "   \n",
    "        if self.identity_downsample is not None:\n",
    "            identity = self.identity_downsample(identity) # use the nn.Sequential \n",
    "        \n",
    "        x += identity # shortcut connection\n",
    "        x = self.relu(x) # relu will be after the addition\n",
    "        return x"
   ]
  },
  {
   "cell_type": "code",
   "execution_count": 4,
   "metadata": {},
   "outputs": [],
   "source": [
    "class ResNet(nn.Module):\n",
    "    def __init__(self, residual_block, layers, image_channels, num_classes):\n",
    "        super(ResNet, self).__init__()\n",
    "        self.in_channels=64\n",
    "        \n",
    "        # Input image size (224, 224, 3)\n",
    "        self.conv1 = nn.Conv2d(image_channels, 64, kernel_size=7, stride=2, padding=3)  #padding 3!\n",
    "        self.bn1   = nn.BatchNorm2d(64)\n",
    "        self.relu  = nn.ReLU()\n",
    "        self.maxpool = nn.MaxPool2d(kernel_size=3, stride=2, padding=1) # padding1\n",
    "        \n",
    "        # resnet stage (multiple residual blocks -> multiple resnet layers) \n",
    "        self.stage1 = self._make_stage(residual_block, layers[0], 64, 1) # check the paper, the first stage is no down-sampling, because the previous maxpool already downsampleing\n",
    "        self.stage2 = self._make_stage(residual_block, layers[1], 128, 2)\n",
    "        self.stage3 = self._make_stage(residual_block, layers[2], 256, 2)\n",
    "        self.stage4 = self._make_stage(residual_block, layers[3], 512, 2)\n",
    "        \n",
    "        self.avepool = nn.AdaptiveAvgPool2d((1,1))\n",
    "        self.fc = nn.Linear(512*4, num_classes)\n",
    "    \n",
    "    def _make_stage(self, residual_block, num_residual_blocks, out_channels, stride):\n",
    "        '''\n",
    "        Helper function to construct the stage of resnet\n",
    "        * Resnet has multiple stage \n",
    "        * per stage has multiple residual_blocks\n",
    "        * per residual_block has 3 multiple layers (conv-bn-relu, shortcut connection)\n",
    "        output: nn.Sequential(*list of layers structure)\n",
    "        '''\n",
    "        identity_downsample = None\n",
    "        layers = []\n",
    "        \n",
    "        if stride != 1 or self.in_channels != out_channels * 4:\n",
    "            # stride != 1: whenever user want to down-sample using stride\n",
    "            # self.in_channels != out_channels * 4: here is to deal with whenever connect to a new stage, the identity need to downsample!\n",
    "            identity_downsample = nn.Sequential(nn.Conv2d(self.in_channels, out_channels*4, kernel_size=1, stride=stride), # make sure the depth dimension fits\n",
    "                                                nn.BatchNorm2d(out_channels*4))\n",
    "        \n",
    "        # downsample need to be the beginning ?\n",
    "        layers.append(residual_block(self.in_channels, out_channels, identity_downsample, stride))\n",
    "        self.in_channels = out_channels*4\n",
    "        \n",
    "        for i in range(num_residual_blocks - 1):\n",
    "            layers.append(residual_block(self.in_channels, out_channels))\n",
    "        \n",
    "        return nn.Sequential(*layers) # unpack the layer\n",
    "    \n",
    "    def forward(self, x):\n",
    "        \n",
    "        # Initial standard step:\n",
    "        x = self.conv1(x) # (224, 224, 3) -> (112, 112 , 64)\n",
    "        x = self.bn1(x)\n",
    "        x = self.relu(x)\n",
    "        x = self.maxpool(x) # (112, 112 , 64) -> (56, 56, 64)\n",
    "        \n",
    "        # stacking residual block\n",
    "        x = self.stage1(x) # (56. 56, 64) -> (56, 56, 256)\n",
    "        x = self.stage2(x) # (56, 56, 256) -> (28, 28, 512)\n",
    "        x = self.stage3(x) # (28, 28, 512) -> (14, 14, 1024)\n",
    "        x = self.stage4(x) # (14, 14, 1024) -> (7, 7, 2048)\n",
    "                \n",
    "        # average pool\n",
    "        x = self.avepool(x) #(7, 7, 2024) -> (1, 1, 2048)\n",
    "        x = x.reshape(x.shape[0], -1)\n",
    "        x = self.fc(x) # 2048 * num_classes\n",
    "        \n",
    "        return x\n",
    "        \n",
    "        "
   ]
  },
  {
   "cell_type": "code",
   "execution_count": 5,
   "metadata": {},
   "outputs": [],
   "source": [
    "# ResNet 50 will reuse the residual block [3,4,6,3], this will be the arg layers\n",
    "ResNet50 = ResNet(residual_block, [3,4,6,3], image_channels=3, num_classes=1000)"
   ]
  },
  {
   "cell_type": "code",
   "execution_count": 6,
   "metadata": {},
   "outputs": [],
   "source": [
    "ResNet101 = ResNet(residual_block, [3,4,23,3], image_channels=3, num_classes=1000)"
   ]
  },
  {
   "cell_type": "code",
   "execution_count": 7,
   "metadata": {},
   "outputs": [],
   "source": [
    "ResNet152 = ResNet(residual_block, [3,8,36,3], image_channels=3, num_classes=1000)"
   ]
  },
  {
   "cell_type": "code",
   "execution_count": 8,
   "metadata": {},
   "outputs": [],
   "source": [
    "x = torch.randn(4,3,224,224)"
   ]
  },
  {
   "cell_type": "code",
   "execution_count": 9,
   "metadata": {},
   "outputs": [],
   "source": [
    "y = ResNet50(x).to(device)"
   ]
  },
  {
   "cell_type": "code",
   "execution_count": null,
   "metadata": {},
   "outputs": [],
   "source": []
  }
 ],
 "metadata": {
  "kernelspec": {
   "display_name": "Python 3",
   "language": "python",
   "name": "python3"
  },
  "language_info": {
   "codemirror_mode": {
    "name": "ipython",
    "version": 3
   },
   "file_extension": ".py",
   "mimetype": "text/x-python",
   "name": "python",
   "nbconvert_exporter": "python",
   "pygments_lexer": "ipython3",
   "version": "3.7.7"
  }
 },
 "nbformat": 4,
 "nbformat_minor": 4
}
